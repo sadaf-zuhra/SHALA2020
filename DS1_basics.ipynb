{
  "nbformat": 4,
  "nbformat_minor": 0,
  "metadata": {
    "colab": {
      "name": "DS1_basics.ipynb",
      "provenance": [],
      "collapsed_sections": [],
      "mount_file_id": "1j1dOj83IK8VD23MLbzAzJHfpTrqAUnp3",
      "authorship_tag": "ABX9TyP+nySJlRTSaeSA+3qB1sxi",
      "include_colab_link": true
    },
    "kernelspec": {
      "name": "python3",
      "display_name": "Python 3"
    }
  },
  "cells": [
    {
      "cell_type": "markdown",
      "metadata": {
        "id": "view-in-github",
        "colab_type": "text"
      },
      "source": [
        "<a href=\"https://colab.research.google.com/github/sadaf-zuhra/SHALA2020/blob/master/DS1_basics.ipynb\" target=\"_parent\"><img src=\"https://colab.research.google.com/assets/colab-badge.svg\" alt=\"Open In Colab\"/></a>"
      ]
    },
    {
      "cell_type": "markdown",
      "metadata": {
        "id": "owy2xZGnxvJi",
        "colab_type": "text"
      },
      "source": [
        ">RESOURCES:\n",
        ">> 1. (https://docs.scipy.org/doc/numpy/user/quickstart.html)\n",
        ">>2. DS-1 Lecture of SHALA 2020 (https://www.youtube.com/watch?v=zKSczEN4lks)"
      ]
    },
    {
      "cell_type": "markdown",
      "metadata": {
        "id": "FiCDvia3y_SK",
        "colab_type": "text"
      },
      "source": [
        "The index **-1** refers to the **last** element"
      ]
    },
    {
      "cell_type": "code",
      "metadata": {
        "id": "IhIdEm5IwyoT",
        "colab_type": "code",
        "colab": {}
      },
      "source": [
        "import numpy as np"
      ],
      "execution_count": 0,
      "outputs": []
    },
    {
      "cell_type": "code",
      "metadata": {
        "id": "o4liclK6yrBz",
        "colab_type": "code",
        "colab": {}
      },
      "source": [
        "x = \"ia nrael dna emoh yats\"\n",
        "print(x[-1: : -1])"
      ],
      "execution_count": 0,
      "outputs": []
    },
    {
      "cell_type": "markdown",
      "metadata": {
        "id": "5iuDTfKozRE_",
        "colab_type": "text"
      },
      "source": [
        "When using two indices to access the elements of the list *names*, the first index, -2 accesses the second last element, 'Charlton' and -3 then accesses the third last element of 'Charlton'"
      ]
    },
    {
      "cell_type": "code",
      "metadata": {
        "id": "nI-SGFiLyulx",
        "colab_type": "code",
        "outputId": "db80f5f6-ed0e-4848-bdfd-8a7c93c921e2",
        "colab": {
          "base_uri": "https://localhost:8080/",
          "height": 35
        }
      },
      "source": [
        "names = ['Amir','Bear','Charlton','Daman']\n",
        "print(names[-2][-3])"
      ],
      "execution_count": 0,
      "outputs": [
        {
          "output_type": "stream",
          "text": [
            "t\n"
          ],
          "name": "stdout"
        }
      ]
    },
    {
      "cell_type": "code",
      "metadata": {
        "id": "LcWUdJrZUQVN",
        "colab_type": "code",
        "outputId": "a8410593-b86e-40fd-f157-22fc6f613052",
        "colab": {
          "base_uri": "https://localhost:8080/",
          "height": 35
        }
      },
      "source": [
        "class point:\n",
        "  def __init__(self,x = 0, y = 0):\n",
        "    self.x = x+1\n",
        "    self.y = y+1\n",
        "p1 = point(2,3)\n",
        "print(p1.x,p1.y)"
      ],
      "execution_count": 0,
      "outputs": [
        {
          "output_type": "stream",
          "text": [
            "3 4\n"
          ],
          "name": "stdout"
        }
      ]
    },
    {
      "cell_type": "code",
      "metadata": {
        "id": "YxfU7jFFyjHa",
        "colab_type": "code",
        "outputId": "cd8bc51e-3d43-4d26-d80d-9d36c44caa74",
        "colab": {
          "base_uri": "https://localhost:8080/",
          "height": 35
        }
      },
      "source": [
        "a = np.arange(15).reshape(3, 5)\n",
        "a\n",
        "print(a.shape,a.ndim, a.dtype.name, a.itemsize, a.size, type(a))"
      ],
      "execution_count": 0,
      "outputs": [
        {
          "output_type": "stream",
          "text": [
            "(3, 5) 2 int64 8 15 <class 'numpy.ndarray'>\n"
          ],
          "name": "stdout"
        }
      ]
    },
    {
      "cell_type": "code",
      "metadata": {
        "id": "hGae4Bhe07eW",
        "colab_type": "code",
        "outputId": "6ec4e086-a977-4a85-995e-529c582ea016",
        "colab": {
          "base_uri": "https://localhost:8080/",
          "height": 54
        }
      },
      "source": [
        "c = np.array( [ [1,2], [3,4] ], dtype=complex )\n",
        "c"
      ],
      "execution_count": 0,
      "outputs": [
        {
          "output_type": "execute_result",
          "data": {
            "text/plain": [
              "array([[1.+0.j, 2.+0.j],\n",
              "       [3.+0.j, 4.+0.j]])"
            ]
          },
          "metadata": {
            "tags": []
          },
          "execution_count": 7
        }
      ]
    },
    {
      "cell_type": "markdown",
      "metadata": {
        "id": "9-wKTFWN2riv",
        "colab_type": "text"
      },
      "source": [
        "*arange* creates an array of numbers from a certain range. "
      ]
    },
    {
      "cell_type": "code",
      "metadata": {
        "id": "tatGGNdn1pZT",
        "colab_type": "code",
        "outputId": "4dd0a8d9-a8c3-4470-c6b0-b9533e1e3e73",
        "colab": {
          "base_uri": "https://localhost:8080/",
          "height": 35
        }
      },
      "source": [
        "np.arange( 0, 2, 0.3 )  #Arguments: (range start, range end (excluded), step-size)"
      ],
      "execution_count": 0,
      "outputs": [
        {
          "output_type": "execute_result",
          "data": {
            "text/plain": [
              "array([0. , 0.3, 0.6, 0.9, 1.2, 1.5, 1.8])"
            ]
          },
          "metadata": {
            "tags": []
          },
          "execution_count": 8
        }
      ]
    },
    {
      "cell_type": "markdown",
      "metadata": {
        "id": "U7qTSEyO3eRc",
        "colab_type": "text"
      },
      "source": [
        "*linspace* takes number of elements as input instead of the step-size."
      ]
    },
    {
      "cell_type": "code",
      "metadata": {
        "id": "zpqznMhl3Xm2",
        "colab_type": "code",
        "outputId": "6e67465b-d5a4-4384-d40b-b99be4666dd2",
        "colab": {
          "base_uri": "https://localhost:8080/",
          "height": 35
        }
      },
      "source": [
        "np.linspace( 0, 2, 9 )"
      ],
      "execution_count": 0,
      "outputs": [
        {
          "output_type": "execute_result",
          "data": {
            "text/plain": [
              "array([0.  , 0.25, 0.5 , 0.75, 1.  , 1.25, 1.5 , 1.75, 2.  ])"
            ]
          },
          "metadata": {
            "tags": []
          },
          "execution_count": 9
        }
      ]
    },
    {
      "cell_type": "markdown",
      "metadata": {
        "id": "Wy8x1Wjc4Jkr",
        "colab_type": "text"
      },
      "source": [
        "Displaying ARRAYS:"
      ]
    },
    {
      "cell_type": "code",
      "metadata": {
        "id": "dyzT3g714D71",
        "colab_type": "code",
        "outputId": "5aba0d4c-1f50-43de-c135-19ddb7903d66",
        "colab": {
          "base_uri": "https://localhost:8080/",
          "height": 146
        }
      },
      "source": [
        "np.arange(24).reshape(2,3,4)         # 3d array"
      ],
      "execution_count": 0,
      "outputs": [
        {
          "output_type": "execute_result",
          "data": {
            "text/plain": [
              "array([[[ 0,  1,  2,  3],\n",
              "        [ 4,  5,  6,  7],\n",
              "        [ 8,  9, 10, 11]],\n",
              "\n",
              "       [[12, 13, 14, 15],\n",
              "        [16, 17, 18, 19],\n",
              "        [20, 21, 22, 23]]])"
            ]
          },
          "metadata": {
            "tags": []
          },
          "execution_count": 12
        }
      ]
    },
    {
      "cell_type": "markdown",
      "metadata": {
        "id": "Ym6_gCqCWaIP",
        "colab_type": "text"
      },
      "source": [
        "> BASIC MATRIX OPERATIONS:\n",
        "\n",
        "\n",
        "*   \\* : element wise multiplication\n",
        "*   \\@ OR .dot : matrix multiplication\n",
        "\n"
      ]
    },
    {
      "cell_type": "code",
      "metadata": {
        "id": "hzd8Nim8W6Z9",
        "colab_type": "code",
        "outputId": "afe19044-785b-4ac3-fca7-f0846eb5384b",
        "colab": {
          "base_uri": "https://localhost:8080/",
          "height": 90
        }
      },
      "source": [
        "import numpy as np\n",
        "A = np.array( [[1,1], [0,1]] )\n",
        "B = np.array( [[2,0], [3,4]] )\n",
        "A*B, A@B, A.dot(B)"
      ],
      "execution_count": 0,
      "outputs": [
        {
          "output_type": "execute_result",
          "data": {
            "text/plain": [
              "(array([[2, 0],\n",
              "        [0, 4]]), array([[5, 4],\n",
              "        [3, 4]]), array([[5, 4],\n",
              "        [3, 4]]))"
            ]
          },
          "metadata": {
            "tags": []
          },
          "execution_count": 3
        }
      ]
    },
    {
      "cell_type": "markdown",
      "metadata": {
        "id": "7GUPAtnKaY_X",
        "colab_type": "text"
      },
      "source": [
        "Many unary oerations like sum, min, max implemented as methods of ndarray class"
      ]
    },
    {
      "cell_type": "code",
      "metadata": {
        "id": "i_UfOS8qZ2hV",
        "colab_type": "code",
        "outputId": "ae3aff76-5c8f-4843-a4ca-829e7f4db24c",
        "colab": {
          "base_uri": "https://localhost:8080/",
          "height": 72
        }
      },
      "source": [
        "a = np.random.random((2,3))\n",
        "a.sum() # sums all elements irrespective of array shape\n",
        "#can specify axis as well:\n",
        "b = np.arange(12).reshape(3,4)\n",
        "b.sum(axis=0) , b.cumsum(axis=1) #Sums columns, cumulative sum along each row"
      ],
      "execution_count": 0,
      "outputs": [
        {
          "output_type": "execute_result",
          "data": {
            "text/plain": [
              "(array([12, 15, 18, 21]), array([[ 0,  1,  3,  6],\n",
              "        [ 4,  9, 15, 22],\n",
              "        [ 8, 17, 27, 38]]))"
            ]
          },
          "metadata": {
            "tags": []
          },
          "execution_count": 6
        }
      ]
    },
    {
      "cell_type": "markdown",
      "metadata": {
        "id": "4cWcUNn5eBKa",
        "colab_type": "text"
      },
      "source": [
        "Changing shapes of arrays:"
      ]
    },
    {
      "cell_type": "code",
      "metadata": {
        "id": "ZBKazWtoeFVn",
        "colab_type": "code",
        "outputId": "ec10fd5b-74e4-4662-9c97-2bde3db1031d",
        "colab": {
          "base_uri": "https://localhost:8080/",
          "height": 72
        }
      },
      "source": [
        "a = np.floor(10*np.random.random((3,4)))\n",
        "a"
      ],
      "execution_count": 0,
      "outputs": [
        {
          "output_type": "execute_result",
          "data": {
            "text/plain": [
              "array([[2., 6., 2., 3.],\n",
              "       [1., 1., 7., 0.],\n",
              "       [5., 2., 8., 0.]])"
            ]
          },
          "metadata": {
            "tags": []
          },
          "execution_count": 2
        }
      ]
    },
    {
      "cell_type": "code",
      "metadata": {
        "id": "MR-2QcUneS21",
        "colab_type": "code",
        "outputId": "79049109-a74b-49f3-84a1-16a4b40abeee",
        "colab": {
          "base_uri": "https://localhost:8080/",
          "height": 90
        }
      },
      "source": [
        "a.ravel()  # returns the array, flattened\n",
        "a.reshape(6,2)  # returns the array with a modified shape\n",
        "a.T  # returns the array, transposed"
      ],
      "execution_count": 0,
      "outputs": [
        {
          "output_type": "execute_result",
          "data": {
            "text/plain": [
              "array([[7., 4., 7.],\n",
              "       [8., 1., 9.],\n",
              "       [2., 5., 6.],\n",
              "       [6., 3., 5.]])"
            ]
          },
          "metadata": {
            "tags": []
          },
          "execution_count": 5
        }
      ]
    },
    {
      "cell_type": "markdown",
      "metadata": {
        "id": "zyt4U17ifDA1",
        "colab_type": "text"
      },
      "source": [
        "The reshape function returns its argument with a modified shape, whereas the ndarray.resize method modifies the array itself:"
      ]
    },
    {
      "cell_type": "code",
      "metadata": {
        "id": "1cmHg3GreZIg",
        "colab_type": "code",
        "outputId": "df841c98-77b1-4cd1-a994-4a428e59aed0",
        "colab": {
          "base_uri": "https://localhost:8080/",
          "height": 54
        }
      },
      "source": [
        "a.resize((2,6))\n",
        "a"
      ],
      "execution_count": 0,
      "outputs": [
        {
          "output_type": "execute_result",
          "data": {
            "text/plain": [
              "array([[7., 8., 2., 6., 4., 1.],\n",
              "       [5., 3., 7., 9., 6., 5.]])"
            ]
          },
          "metadata": {
            "tags": []
          },
          "execution_count": 11
        }
      ]
    },
    {
      "cell_type": "markdown",
      "metadata": {
        "id": "X3b7oX5nfaVG",
        "colab_type": "text"
      },
      "source": [
        "If a dimension is given as -1 in a reshaping operation, the other dimensions are automatically calculated:"
      ]
    },
    {
      "cell_type": "code",
      "metadata": {
        "id": "tB6_Gma3fFYX",
        "colab_type": "code",
        "outputId": "1f457ee2-5158-4d0f-edcf-8273a97da18c",
        "colab": {
          "base_uri": "https://localhost:8080/",
          "height": 72
        }
      },
      "source": [
        "a.reshape((3,-1))"
      ],
      "execution_count": 0,
      "outputs": [
        {
          "output_type": "execute_result",
          "data": {
            "text/plain": [
              "array([[7., 8., 2., 6.],\n",
              "       [4., 1., 5., 3.],\n",
              "       [7., 9., 6., 5.]])"
            ]
          },
          "metadata": {
            "tags": []
          },
          "execution_count": 12
        }
      ]
    },
    {
      "cell_type": "markdown",
      "metadata": {
        "id": "tErLmEiAfpu9",
        "colab_type": "text"
      },
      "source": [
        "Arrays can be stacked together horizontally or vertically"
      ]
    },
    {
      "cell_type": "code",
      "metadata": {
        "id": "ZNiMqOHKftwg",
        "colab_type": "code",
        "outputId": "5bc871d9-1c89-4340-d535-ed9d810c3cd6",
        "colab": {
          "base_uri": "https://localhost:8080/",
          "height": 54
        }
      },
      "source": [
        "a = np.floor(10*np.random.random((2,2)))\n",
        "b = np.floor(10*np.random.random((2,2)))\n",
        "np.vstack((a,b))\n",
        "np.hstack((a,b))"
      ],
      "execution_count": 0,
      "outputs": [
        {
          "output_type": "execute_result",
          "data": {
            "text/plain": [
              "array([[1., 7., 4., 9.],\n",
              "       [6., 0., 7., 8.]])"
            ]
          },
          "metadata": {
            "tags": []
          },
          "execution_count": 14
        }
      ]
    },
    {
      "cell_type": "markdown",
      "metadata": {
        "id": "LIfxj52tgTkP",
        "colab_type": "text"
      },
      "source": [
        "The function column_stack stacks 1D arrays as columns into a 2D array. It is equivalent to hstack only for 2D arrays:"
      ]
    },
    {
      "cell_type": "code",
      "metadata": {
        "id": "dJ6xqe7zgUhd",
        "colab_type": "code",
        "outputId": "ccac7819-669b-41b7-f1b0-43962216e3b4",
        "colab": {
          "base_uri": "https://localhost:8080/",
          "height": 54
        }
      },
      "source": [
        "np.column_stack((a,b))"
      ],
      "execution_count": 0,
      "outputs": [
        {
          "output_type": "execute_result",
          "data": {
            "text/plain": [
              "array([[1., 7., 4., 9.],\n",
              "       [6., 0., 7., 8.]])"
            ]
          },
          "metadata": {
            "tags": []
          },
          "execution_count": 17
        }
      ]
    },
    {
      "cell_type": "code",
      "metadata": {
        "id": "nauo4QtOgqIM",
        "colab_type": "code",
        "outputId": "78e1727c-dc60-45f0-e2bc-40056389beb7",
        "colab": {
          "base_uri": "https://localhost:8080/",
          "height": 54
        }
      },
      "source": [
        "from numpy import newaxis\n",
        "a = np.array([4.,2.])\n",
        "a[:,newaxis]               # this allows to have a 2D columns vector"
      ],
      "execution_count": 0,
      "outputs": [
        {
          "output_type": "execute_result",
          "data": {
            "text/plain": [
              "array([[4.],\n",
              "       [2.]])"
            ]
          },
          "metadata": {
            "tags": []
          },
          "execution_count": 7
        }
      ]
    },
    {
      "cell_type": "markdown",
      "metadata": {
        "id": "GLCtCkCEVkRB",
        "colab_type": "text"
      },
      "source": [
        "Array splitting"
      ]
    },
    {
      "cell_type": "code",
      "metadata": {
        "id": "6tQIyhN_U7gY",
        "colab_type": "code",
        "colab": {}
      },
      "source": [
        "a = np.floor(10*np.random.random((2,12)))\n",
        "np.hsplit(a,3)   # Split a into 3\n",
        "np.hsplit(a,(3,4))   # Split a after the third and the fourth column\n",
        "b = a"
      ],
      "execution_count": 0,
      "outputs": []
    },
    {
      "cell_type": "code",
      "metadata": {
        "id": "IObSsE8fY8xR",
        "colab_type": "code",
        "outputId": "49771e54-24c7-4efd-9438-321d7e5306bd",
        "colab": {
          "base_uri": "https://localhost:8080/",
          "height": 35
        }
      },
      "source": [
        "b is a"
      ],
      "execution_count": 0,
      "outputs": [
        {
          "output_type": "execute_result",
          "data": {
            "text/plain": [
              "True"
            ]
          },
          "metadata": {
            "tags": []
          },
          "execution_count": 10
        }
      ]
    },
    {
      "cell_type": "code",
      "metadata": {
        "id": "nzUA-Q44w_lY",
        "colab_type": "code",
        "outputId": "f9197d9a-c9d2-4d66-b267-dedb71156688",
        "colab": {
          "base_uri": "https://localhost:8080/",
          "height": 72
        }
      },
      "source": [
        "f = np.eye(3)\n",
        "print('f={}'.format(f))"
      ],
      "execution_count": 0,
      "outputs": [
        {
          "output_type": "stream",
          "text": [
            "f=[[1. 0. 0.]\n",
            " [0. 1. 0.]\n",
            " [0. 0. 1.]]\n"
          ],
          "name": "stdout"
        }
      ]
    },
    {
      "cell_type": "code",
      "metadata": {
        "id": "4RdQGQFsxj0D",
        "colab_type": "code",
        "outputId": "db8b2116-3548-44e5-c5a9-d1aa776bb635",
        "colab": {
          "base_uri": "https://localhost:8080/",
          "height": 72
        }
      },
      "source": [
        "#create an array of ones of same type and size as f\n",
        "g = np.ones_like(f) #np.zeros_like\n",
        "print('g={}'.format(g))"
      ],
      "execution_count": 0,
      "outputs": [
        {
          "output_type": "stream",
          "text": [
            "g=[[1. 1. 1.]\n",
            " [1. 1. 1.]\n",
            " [1. 1. 1.]]\n"
          ],
          "name": "stdout"
        }
      ]
    },
    {
      "cell_type": "code",
      "metadata": {
        "id": "TmbeFl35ynH4",
        "colab_type": "code",
        "outputId": "750e3f45-d4b9-4420-d5db-0813188ea4a2",
        "colab": {
          "base_uri": "https://localhost:8080/",
          "height": 72
        }
      },
      "source": [
        "#create an array filled with inf values/ custom values\n",
        "h = np.full((3,2),np.inf)\n",
        "print(h)"
      ],
      "execution_count": 0,
      "outputs": [
        {
          "output_type": "stream",
          "text": [
            "[[inf inf]\n",
            " [inf inf]\n",
            " [inf inf]]\n"
          ],
          "name": "stdout"
        }
      ]
    },
    {
      "cell_type": "code",
      "metadata": {
        "id": "5FOEiCjlzM-T",
        "colab_type": "code",
        "outputId": "625bd18b-66df-4c8f-d9e2-d05527874fba",
        "colab": {
          "base_uri": "https://localhost:8080/",
          "height": 35
        }
      },
      "source": [
        "#find diagonal of a matrix\n",
        "i = np.array([[0,1,2],[3,4,5],[6,7,8]])\n",
        "np.diag(i)"
      ],
      "execution_count": 0,
      "outputs": [
        {
          "output_type": "execute_result",
          "data": {
            "text/plain": [
              "array([0, 4, 8])"
            ]
          },
          "metadata": {
            "tags": []
          },
          "execution_count": 22
        }
      ]
    },
    {
      "cell_type": "code",
      "metadata": {
        "id": "3ZCQkhYAz85c",
        "colab_type": "code",
        "outputId": "48cd9947-283f-4173-bad0-21e486f54c61",
        "colab": {
          "base_uri": "https://localhost:8080/",
          "height": 54
        }
      },
      "source": [
        "#find diagonals above and below the main diagonal\n",
        "j = np.diag(i,k=1) #one diagonal above\n",
        "print('j={}'.format(j))\n",
        "j = np.diag(i,k=-1) #one diag below the main\n",
        "print('j={}'.format(j))"
      ],
      "execution_count": 0,
      "outputs": [
        {
          "output_type": "stream",
          "text": [
            "j=[1 5]\n",
            "j=[3 7]\n"
          ],
          "name": "stdout"
        }
      ]
    },
    {
      "cell_type": "code",
      "metadata": {
        "id": "VPEMXzInfL8E",
        "colab_type": "code",
        "outputId": "bb600708-b7e8-4f2c-b1f7-8064db0c1455",
        "colab": {
          "base_uri": "https://localhost:8080/",
          "height": 72
        }
      },
      "source": [
        "a = np.array([[1,2,3],[4,5,6]])\n",
        "a.transpose()"
      ],
      "execution_count": 0,
      "outputs": [
        {
          "output_type": "execute_result",
          "data": {
            "text/plain": [
              "array([[1, 4],\n",
              "       [2, 5],\n",
              "       [3, 6]])"
            ]
          },
          "metadata": {
            "tags": []
          },
          "execution_count": 2
        }
      ]
    },
    {
      "cell_type": "markdown",
      "metadata": {
        "id": "Qz6LZJq1fey3",
        "colab_type": "text"
      },
      "source": [
        "Can specify additional arguments for transpose, eg in a 3D array:"
      ]
    },
    {
      "cell_type": "code",
      "metadata": {
        "id": "xHCTO7P7fj4K",
        "colab_type": "code",
        "outputId": "082c79d5-bcdc-41ec-8669-dd4e511668a6",
        "colab": {
          "base_uri": "https://localhost:8080/",
          "height": 293
        }
      },
      "source": [
        "d = np.zeros((3,4,2))\n",
        "print('d={}'.format(d))\n",
        "p = d.transpose((0,2,1)) # axis1 at frist place, axis2 at third, axis3 at second\n",
        "d.shape, p.shape"
      ],
      "execution_count": 0,
      "outputs": [
        {
          "output_type": "stream",
          "text": [
            "d=[[[0. 0.]\n",
            "  [0. 0.]\n",
            "  [0. 0.]\n",
            "  [0. 0.]]\n",
            "\n",
            " [[0. 0.]\n",
            "  [0. 0.]\n",
            "  [0. 0.]\n",
            "  [0. 0.]]\n",
            "\n",
            " [[0. 0.]\n",
            "  [0. 0.]\n",
            "  [0. 0.]\n",
            "  [0. 0.]]]\n"
          ],
          "name": "stdout"
        },
        {
          "output_type": "execute_result",
          "data": {
            "text/plain": [
              "((3, 4, 2), (3, 2, 4))"
            ]
          },
          "metadata": {
            "tags": []
          },
          "execution_count": 5
        }
      ]
    },
    {
      "cell_type": "code",
      "metadata": {
        "id": "RCZVunHYjjwM",
        "colab_type": "code",
        "outputId": "901f66f8-724c-493a-8488-700bbbf42579",
        "colab": {
          "base_uri": "https://localhost:8080/",
          "height": 72
        }
      },
      "source": [
        "#create random 3*2 array\n",
        "np.random.seed(2) \n",
        "j = np.random.random_sample((3,2))*5\n",
        "print('j={}'.format(j))"
      ],
      "execution_count": 0,
      "outputs": [
        {
          "output_type": "stream",
          "text": [
            "j=[[0.67289973 2.56789061]\n",
            " [0.92219933 3.92667574]\n",
            " [4.26987646 2.47118419]]\n"
          ],
          "name": "stdout"
        }
      ]
    },
    {
      "cell_type": "code",
      "metadata": {
        "id": "38ddHQFqkSYz",
        "colab_type": "code",
        "outputId": "7fe3b9e1-9a5f-40f7-9508-5e94e1d0ce1f",
        "colab": {
          "base_uri": "https://localhost:8080/",
          "height": 54
        }
      },
      "source": [
        "#max/min from entire matrix and argmax/argmin, can also take additional argumentsto specify axis\n",
        "print('max(j)={}'.format(np.max(j)))\n",
        "print('argmax(j)={}'.format(np.argmax(j,1)))"
      ],
      "execution_count": 0,
      "outputs": [
        {
          "output_type": "stream",
          "text": [
            "max(j)=4.269876463197444\n",
            "argmax(j)=[1 1 0]\n"
          ],
          "name": "stdout"
        }
      ]
    },
    {
      "cell_type": "code",
      "metadata": {
        "id": "aThCRVZ9lChR",
        "colab_type": "code",
        "outputId": "3a03689f-2d01-43e6-8152-38f3186e8d5d",
        "colab": {
          "base_uri": "https://localhost:8080/",
          "height": 35
        }
      },
      "source": [
        "# find maxium and minimum of rows 1 and 2\n",
        "print('maximum of row1,row2={}'.format(np.maximum(j[1],j[2])))"
      ],
      "execution_count": 0,
      "outputs": [
        {
          "output_type": "stream",
          "text": [
            "maximum of row1,row2=[4.26987646 3.92667574]\n"
          ],
          "name": "stdout"
        }
      ]
    },
    {
      "cell_type": "markdown",
      "metadata": {
        "id": "mwl-1i-OnD_u",
        "colab_type": "text"
      },
      "source": [
        ">>**STATISTICAL MEASURES**"
      ]
    },
    {
      "cell_type": "code",
      "metadata": {
        "id": "uWZZHgJXnIpo",
        "colab_type": "code",
        "outputId": "b7fb7b02-605f-41d4-eba4-ac61b89f7803",
        "colab": {
          "base_uri": "https://localhost:8080/",
          "height": 90
        }
      },
      "source": [
        "a = np.random.random_sample((3,3))*3\n",
        "print(a)\n",
        "print('mean(a)={}'.format(np.mean(a,0))) #can specify axis with additional argument\n",
        "#print('var(a)={}'.format(np.var(a)))\n",
        "#print('std(a)={}'.format(np.std(a)))"
      ],
      "execution_count": 0,
      "outputs": [
        {
          "output_type": "stream",
          "text": [
            "[[2.66856019 1.02484096 1.70143238]\n",
            " [1.28263789 1.31024179 2.32967755]\n",
            " [1.60681252 2.86122668 1.63262448]]\n",
            "mean(a)=[1.8526702  1.73210314 1.88791147]\n"
          ],
          "name": "stdout"
        }
      ]
    },
    {
      "cell_type": "markdown",
      "metadata": {
        "id": "UpQHzK0SwTuB",
        "colab_type": "text"
      },
      "source": [
        ">>**LINEAR ALGEBRA**"
      ]
    },
    {
      "cell_type": "code",
      "metadata": {
        "id": "-bhIPrwBwYgx",
        "colab_type": "code",
        "outputId": "e02e51e1-65b0-4deb-e174-e32d51b1c953",
        "colab": {
          "base_uri": "https://localhost:8080/",
          "height": 72
        }
      },
      "source": [
        "# element wise exp\n",
        "b = np.exp(a)\n",
        "print('exp(a)={}'.format(b))"
      ],
      "execution_count": 0,
      "outputs": [
        {
          "output_type": "stream",
          "text": [
            "exp(a)=[[14.41919337  2.78665223  5.4817938 ]\n",
            " [ 3.60613979  3.70706993 10.274628  ]\n",
            " [ 4.98689026 17.4829598   5.11728733]]\n"
          ],
          "name": "stdout"
        }
      ]
    },
    {
      "cell_type": "markdown",
      "metadata": {
        "id": "LfB2fnU3AUC1",
        "colab_type": "text"
      },
      "source": [
        "linalg is another library with Linear Algebra functions"
      ]
    },
    {
      "cell_type": "code",
      "metadata": {
        "id": "cXA8BfxeAjBU",
        "colab_type": "code",
        "outputId": "59cbb836-75e1-4e07-fb33-118fa00363be",
        "colab": {
          "base_uri": "https://localhost:8080/",
          "height": 72
        }
      },
      "source": [
        "det = np.linalg.det(b)\n",
        "print('det(b)={}'.format(det))\n",
        "rank = np.linalg.matrix_rank(b)\n",
        "print('rank(b)={}'.format(rank))\n",
        "trace = np.trace(b)\n",
        "print('rank(b)={}'.format(trace))"
      ],
      "execution_count": 0,
      "outputs": [
        {
          "output_type": "stream",
          "text": [
            "det(b)=-1980.9742512133307\n",
            "rank(b)=3\n",
            "rank(b)=23.243550631180824\n"
          ],
          "name": "stdout"
        }
      ]
    },
    {
      "cell_type": "code",
      "metadata": {
        "id": "9ESE3BbvCHIf",
        "colab_type": "code",
        "outputId": "99daef50-d38d-44d1-bc8b-26cfa5200fed",
        "colab": {
          "base_uri": "https://localhost:8080/",
          "height": 72
        }
      },
      "source": [
        "#eigenvalues and eigen vectors\n",
        "eigen_val, eigen_vec = np.linalg.eig(b)\n",
        "print('eigen values={}, eigenvectors = {}'.format(eigen_val,eigen_vec))"
      ],
      "execution_count": 0,
      "outputs": [
        {
          "output_type": "stream",
          "text": [
            "eigen values=[22.47155551  9.7830045  -9.01100938], eigenvectors = [[ 0.60211955  0.79476572 -0.11248082]\n",
            " [ 0.46936547 -0.35757433 -0.60494264]\n",
            " [ 0.64587003 -0.49039581  0.78828451]]\n"
          ],
          "name": "stdout"
        }
      ]
    },
    {
      "cell_type": "code",
      "metadata": {
        "id": "siGjTFxzDY6O",
        "colab_type": "code",
        "outputId": "1c282350-6e1a-495e-e708-3b3e7701b913",
        "colab": {
          "base_uri": "https://localhost:8080/",
          "height": 201
        }
      },
      "source": [
        "#SVD of b\n",
        "u,s,vh = np.linalg.svd(b)\n",
        "print('U of b is: \\n{}'.format(u))\n",
        "print('V of b is: \\n{}'.format(vh))\n",
        "print('Singular values of b are: \\n{}'.format(s))"
      ],
      "execution_count": 0,
      "outputs": [
        {
          "output_type": "stream",
          "text": [
            "U of b is: \n",
            "[[-0.53857448  0.74943569  0.3850762 ]\n",
            " [-0.40352172  0.17178419 -0.89869929]\n",
            " [-0.73966732 -0.63940312  0.20989499]]\n",
            "V of b is: \n",
            "[[-0.55614993 -0.68619529 -0.46886381]\n",
            " [ 0.68152816 -0.69942652  0.21522527]\n",
            " [ 0.47562235  0.19984637 -0.85664742]]\n",
            "Singular values of b are: \n",
            "[23.21245469 12.0862251   7.06101417]\n"
          ],
          "name": "stdout"
        }
      ]
    },
    {
      "cell_type": "code",
      "metadata": {
        "id": "IwijbLA7Eb-P",
        "colab_type": "code",
        "colab": {}
      },
      "source": [
        "np.dot(a,b) # dot product/element wise mult\n",
        "np.matmul(a,b) # matrix multiplication"
      ],
      "execution_count": 0,
      "outputs": []
    },
    {
      "cell_type": "code",
      "metadata": {
        "id": "YS5dd7XUEkti",
        "colab_type": "code",
        "outputId": "18a2fb8c-f74a-4c23-9e97-b1303f45a84b",
        "colab": {
          "base_uri": "https://localhost:8080/",
          "height": 35
        }
      },
      "source": [
        "# INVERSEand pseudoinverse\n",
        "# a = np.random.random_sample((3,3))\n",
        "# b = np.linalg.inv(a)\n",
        "# print('Inverse of a is: \\n{}'.format(b))\n",
        "# c = np.linalg.pinv(a)\n",
        "# print('Pseudoinverse of a is: \\n{}'.format(c))\n",
        "\n",
        "import random\n",
        "np.random.seed(3)\n",
        "d = random.randint(1,10)\n",
        "print(d)\n",
        "np.random.seed(1099)\n",
        "d = random.randint(1,10)"
      ],
      "execution_count": 0,
      "outputs": [
        {
          "output_type": "stream",
          "text": [
            "10\n"
          ],
          "name": "stdout"
        }
      ]
    },
    {
      "cell_type": "markdown",
      "metadata": {
        "id": "ahQLjQ11HUxu",
        "colab_type": "text"
      },
      "source": [
        "> **PART 2: PANDAS**"
      ]
    },
    {
      "cell_type": "code",
      "metadata": {
        "id": "HpPUT5gkHcjB",
        "colab_type": "code",
        "colab": {}
      },
      "source": [
        "import pandas as pd"
      ],
      "execution_count": 0,
      "outputs": []
    },
    {
      "cell_type": "code",
      "metadata": {
        "id": "9tnQ5BqdPFsA",
        "colab_type": "code",
        "outputId": "63959134-59a8-4b47-b491-9b331b4ece97",
        "colab": {
          "base_uri": "https://localhost:8080/",
          "height": 143
        }
      },
      "source": [
        "df = pd.DataFrame({\n",
        "    \"Name\":[\"Sadaf\",\"Zuhra\",\"Aiza\"],\n",
        "    \"Age\":[29,58,2],\n",
        "    \"Gender\":[\"female\",\"female\",\"female\"]\n",
        "})\n",
        "df"
      ],
      "execution_count": 0,
      "outputs": [
        {
          "output_type": "execute_result",
          "data": {
            "text/html": [
              "<div>\n",
              "<style scoped>\n",
              "    .dataframe tbody tr th:only-of-type {\n",
              "        vertical-align: middle;\n",
              "    }\n",
              "\n",
              "    .dataframe tbody tr th {\n",
              "        vertical-align: top;\n",
              "    }\n",
              "\n",
              "    .dataframe thead th {\n",
              "        text-align: right;\n",
              "    }\n",
              "</style>\n",
              "<table border=\"1\" class=\"dataframe\">\n",
              "  <thead>\n",
              "    <tr style=\"text-align: right;\">\n",
              "      <th></th>\n",
              "      <th>Name</th>\n",
              "      <th>Age</th>\n",
              "      <th>Gender</th>\n",
              "    </tr>\n",
              "  </thead>\n",
              "  <tbody>\n",
              "    <tr>\n",
              "      <th>0</th>\n",
              "      <td>Sadaf</td>\n",
              "      <td>29</td>\n",
              "      <td>female</td>\n",
              "    </tr>\n",
              "    <tr>\n",
              "      <th>1</th>\n",
              "      <td>Zuhra</td>\n",
              "      <td>58</td>\n",
              "      <td>female</td>\n",
              "    </tr>\n",
              "    <tr>\n",
              "      <th>2</th>\n",
              "      <td>Aiza</td>\n",
              "      <td>2</td>\n",
              "      <td>female</td>\n",
              "    </tr>\n",
              "  </tbody>\n",
              "</table>\n",
              "</div>"
            ],
            "text/plain": [
              "    Name  Age  Gender\n",
              "0  Sadaf   29  female\n",
              "1  Zuhra   58  female\n",
              "2   Aiza    2  female"
            ]
          },
          "metadata": {
            "tags": []
          },
          "execution_count": 33
        }
      ]
    },
    {
      "cell_type": "code",
      "metadata": {
        "id": "ZPzEeBsHPudq",
        "colab_type": "code",
        "outputId": "0fef17f4-5446-45d0-9247-3156691b3284",
        "colab": {
          "base_uri": "https://localhost:8080/",
          "height": 300
        }
      },
      "source": [
        "df[\"Age\"]\n",
        "df[\"Age\"].max()\n",
        "df.describe() #details, statistical info of relevant fields"
      ],
      "execution_count": 0,
      "outputs": [
        {
          "output_type": "execute_result",
          "data": {
            "text/html": [
              "<div>\n",
              "<style scoped>\n",
              "    .dataframe tbody tr th:only-of-type {\n",
              "        vertical-align: middle;\n",
              "    }\n",
              "\n",
              "    .dataframe tbody tr th {\n",
              "        vertical-align: top;\n",
              "    }\n",
              "\n",
              "    .dataframe thead th {\n",
              "        text-align: right;\n",
              "    }\n",
              "</style>\n",
              "<table border=\"1\" class=\"dataframe\">\n",
              "  <thead>\n",
              "    <tr style=\"text-align: right;\">\n",
              "      <th></th>\n",
              "      <th>Age</th>\n",
              "    </tr>\n",
              "  </thead>\n",
              "  <tbody>\n",
              "    <tr>\n",
              "      <th>count</th>\n",
              "      <td>3.000000</td>\n",
              "    </tr>\n",
              "    <tr>\n",
              "      <th>mean</th>\n",
              "      <td>29.666667</td>\n",
              "    </tr>\n",
              "    <tr>\n",
              "      <th>std</th>\n",
              "      <td>28.005952</td>\n",
              "    </tr>\n",
              "    <tr>\n",
              "      <th>min</th>\n",
              "      <td>2.000000</td>\n",
              "    </tr>\n",
              "    <tr>\n",
              "      <th>25%</th>\n",
              "      <td>15.500000</td>\n",
              "    </tr>\n",
              "    <tr>\n",
              "      <th>50%</th>\n",
              "      <td>29.000000</td>\n",
              "    </tr>\n",
              "    <tr>\n",
              "      <th>75%</th>\n",
              "      <td>43.500000</td>\n",
              "    </tr>\n",
              "    <tr>\n",
              "      <th>max</th>\n",
              "      <td>58.000000</td>\n",
              "    </tr>\n",
              "  </tbody>\n",
              "</table>\n",
              "</div>"
            ],
            "text/plain": [
              "             Age\n",
              "count   3.000000\n",
              "mean   29.666667\n",
              "std    28.005952\n",
              "min     2.000000\n",
              "25%    15.500000\n",
              "50%    29.000000\n",
              "75%    43.500000\n",
              "max    58.000000"
            ]
          },
          "metadata": {
            "tags": []
          },
          "execution_count": 36
        }
      ]
    },
    {
      "cell_type": "markdown",
      "metadata": {
        "id": "TaNtZcz-bpp8",
        "colab_type": "text"
      },
      "source": [
        ">> **Dealing with CSV files:**"
      ]
    },
    {
      "cell_type": "code",
      "metadata": {
        "id": "b1qv0ofHbum4",
        "colab_type": "code",
        "colab": {
          "base_uri": "https://localhost:8080/",
          "height": 129
        },
        "outputId": "fb5c1141-ec81-4abb-aa5f-d90a7149dc0d"
      },
      "source": [
        "from google.colab import drive\n",
        "drive.mount('/gdrive')"
      ],
      "execution_count": 1,
      "outputs": [
        {
          "output_type": "stream",
          "text": [
            "Go to this URL in a browser: https://accounts.google.com/o/oauth2/auth?client_id=947318989803-6bn6qk8qdgf4n4g3pfee6491hc0brc4i.apps.googleusercontent.com&redirect_uri=urn%3aietf%3awg%3aoauth%3a2.0%3aoob&response_type=code&scope=email%20https%3a%2f%2fwww.googleapis.com%2fauth%2fdocs.test%20https%3a%2f%2fwww.googleapis.com%2fauth%2fdrive%20https%3a%2f%2fwww.googleapis.com%2fauth%2fdrive.photos.readonly%20https%3a%2f%2fwww.googleapis.com%2fauth%2fpeopleapi.readonly\n",
            "\n",
            "Enter your authorization code:\n",
            "··········\n",
            "Mounted at /gdrive\n"
          ],
          "name": "stdout"
        }
      ]
    },
    {
      "cell_type": "code",
      "metadata": {
        "id": "f9KfgWXbda0t",
        "colab_type": "code",
        "colab": {
          "base_uri": "https://localhost:8080/",
          "height": 35
        },
        "outputId": "56e8300d-6952-44dc-def0-54e6edb566b3"
      },
      "source": [
        "#Can run some linux commands as well. Need to start with % for that\n",
        "# %ls\n",
        "# %pwd\n",
        "%cd 'My Drive'\n",
        "# READ a csv file:\n",
        "CustomerData = pdread_csv(\"CustomerData.csv\") # Did not have the csv file, so just dummy commands, not been run\n",
        "CustomerData.head() #returns first 5 rows of data or any number you pass as argument\n",
        "CustomerData.tail() #similar to head, returns last lines\n",
        "CustomerData.info() # gives non-statistical info of data\n",
        "sex = CustomerData[\"Gender\"] # OR CustomerData.Gender to access the 'Gender' column \n",
        "sex.head()\n",
        "sex.shape()\n",
        "CustomerData.to_excel('Cust.xlsx',sheet_name='Customers',index=false)\n",
        "CD = d.read_excel('Cust.xlsx', sheet_name='Customers')"
      ],
      "execution_count": 13,
      "outputs": [
        {
          "output_type": "stream",
          "text": [
            "/content/drive/My Drive\n"
          ],
          "name": "stdout"
        }
      ]
    },
    {
      "cell_type": "code",
      "metadata": {
        "id": "dj7NjRKp3Xvr",
        "colab_type": "code",
        "colab": {}
      },
      "source": [
        "CustomerData[[\"Gender\",\"Name\"]]\n",
        "CustomerData[CustomerData[\"Age\"]>29] # filter data of only those aged more than 29\n",
        "CustomerData.loc[CustomerData[\"Age\"]>29,\"Name\"] # get only names of relevant entries\n",
        "CustomerData.iloc[0:3,0:2] # get data by integer locations\n",
        "CustomerData.sample(3) # sample any 3 random entries"
      ],
      "execution_count": 0,
      "outputs": []
    },
    {
      "cell_type": "markdown",
      "metadata": {
        "id": "oq677zWTlTzl",
        "colab_type": "text"
      },
      "source": [
        ">>**PLOTTING**"
      ]
    },
    {
      "cell_type": "code",
      "metadata": {
        "id": "3oX3H6VxlWea",
        "colab_type": "code",
        "colab": {}
      },
      "source": [
        "import matplotlib.pyplot as plt # from matplotlib import pyplot as plt"
      ],
      "execution_count": 0,
      "outputs": []
    },
    {
      "cell_type": "code",
      "metadata": {
        "id": "c9_Y5IBs4KJP",
        "colab_type": "code",
        "colab": {}
      },
      "source": [
        "# examples of how to plot\n",
        "CustomerData.plot()\n",
        "CustomerData[\"Age\"].plot()\n",
        "CustomerData.plot.scatter(x=\"ID\", y=\"Age\")\n",
        "CustomerData.plot.box() # box plot of the data\n",
        "#Calculating statistics:\n",
        "CustomerData[\"Age\"].mean() # std, var, skew, median, max, min, mode"
      ],
      "execution_count": 0,
      "outputs": []
    },
    {
      "cell_type": "markdown",
      "metadata": {
        "id": "gBfwEWftmCFG",
        "colab_type": "text"
      },
      "source": [
        ">> **Combining overlapping data sets:**"
      ]
    },
    {
      "cell_type": "code",
      "metadata": {
        "id": "rKnEEeMXmGpu",
        "colab_type": "code",
        "colab": {}
      },
      "source": [
        "import numpy as np\n",
        "import pandas as pd"
      ],
      "execution_count": 0,
      "outputs": []
    },
    {
      "cell_type": "code",
      "metadata": {
        "id": "bK2xQLqbmXtp",
        "colab_type": "code",
        "colab": {}
      },
      "source": [
        "#create 2 dataframes df1 and df2 and now we combine\n",
        "df1 = pd.DataFrame({'A':[1,2,3,4],\n",
        "                    'B':[np.nan, 45, 90, np.nan]    \n",
        "})\n",
        "df2 = pd.DataFrame({'A':[5,6,7,8],\n",
        "                    'B':[20, 14, 3, 89]    \n",
        "})\n",
        "df1.combine_first(df2)"
      ],
      "execution_count": 0,
      "outputs": []
    },
    {
      "cell_type": "markdown",
      "metadata": {
        "id": "FZy2Pyk6mhha",
        "colab_type": "text"
      },
      "source": [
        "combine_first combines 2 DataFrames where missing values in one DF are filled with like labelled values from the second DF"
      ]
    },
    {
      "cell_type": "code",
      "metadata": {
        "id": "3smPM3gZm9Cc",
        "colab_type": "code",
        "colab": {
          "base_uri": "https://localhost:8080/",
          "height": 90
        },
        "outputId": "123ed8e8-8e8c-4abb-8ff3-3c44b58f2d73"
      },
      "source": [
        "#define custom function to do a similarthing using Numpy\n",
        "def combiner(x,y):\n",
        "  return np.where(pd.isna(x),y,x)\n",
        "df1 = pd.DataFrame({'A':[1,2,3,4],\n",
        "                    'B':[np.nan, 45, 90, np.nan]    \n",
        "})\n",
        "df2 = pd.DataFrame({'A':[5,6,7,8],\n",
        "                    'B':[20, 14, 3, 89]    \n",
        "})\n",
        "df3 = combiner(df1,df2)\n",
        "df3"
      ],
      "execution_count": 19,
      "outputs": [
        {
          "output_type": "execute_result",
          "data": {
            "text/plain": [
              "array([[ 1., 20.],\n",
              "       [ 2., 45.],\n",
              "       [ 3., 90.],\n",
              "       [ 4., 89.]])"
            ]
          },
          "metadata": {
            "tags": []
          },
          "execution_count": 19
        }
      ]
    },
    {
      "cell_type": "code",
      "metadata": {
        "id": "iuGqDhM5oxS_",
        "colab_type": "code",
        "colab": {
          "base_uri": "https://localhost:8080/",
          "height": 109
        },
        "outputId": "04497cf4-f31b-4587-88f1-e85738b40503"
      },
      "source": [
        "df1 = pd.DataFrame({'A':[np.nan,2,3,np.nan],\n",
        "                    'B':[np.nan, 45, 90, np.nan]    \n",
        "})\n",
        "df1.sum(axis=1,skipna=True)"
      ],
      "execution_count": 23,
      "outputs": [
        {
          "output_type": "stream",
          "text": [
            "0     0.0\n",
            "1    47.0\n",
            "2    93.0\n",
            "3     0.0\n",
            "dtype: float64\n"
          ],
          "name": "stdout"
        }
      ]
    },
    {
      "cell_type": "markdown",
      "metadata": {
        "id": "6l06Naq3o_gx",
        "colab_type": "text"
      },
      "source": [
        ">>**CROSSTABS**"
      ]
    },
    {
      "cell_type": "code",
      "metadata": {
        "id": "eW9gB3f_5TcT",
        "colab_type": "code",
        "colab": {}
      },
      "source": [
        "#Say we have a dataframe named 'df' containing cols 'regiment', 'company', 'experience' among others\n",
        "pd.crosstab(df.regiment, df.company, margins = True) # This counts the number of observations/data samples corresponding to \n",
        "# various combinations of 'regiment' and 'company'. Say we have regiments A,B and comapnies 1,2. It will give us, no of entries of A,1; of A,2; B,1;B,2"
      ],
      "execution_count": 0,
      "outputs": []
    },
    {
      "cell_type": "markdown",
      "metadata": {
        "id": "IeaLidqFqrQG",
        "colab_type": "text"
      },
      "source": [
        "**get_dummies()**  to convert categorical variable to duy values (one-hot encoding) 1,0"
      ]
    },
    {
      "cell_type": "code",
      "metadata": {
        "id": "Z6KPwnaEpCfN",
        "colab_type": "code",
        "colab": {
          "base_uri": "https://localhost:8080/",
          "height": 394
        },
        "outputId": "618ac7d0-759c-46e8-a9b5-46bc3f550d1d"
      },
      "source": [
        "List = list(\"Hello World\")\n",
        "pd.get_dummies(List)"
      ],
      "execution_count": 24,
      "outputs": [
        {
          "output_type": "execute_result",
          "data": {
            "text/html": [
              "<div>\n",
              "<style scoped>\n",
              "    .dataframe tbody tr th:only-of-type {\n",
              "        vertical-align: middle;\n",
              "    }\n",
              "\n",
              "    .dataframe tbody tr th {\n",
              "        vertical-align: top;\n",
              "    }\n",
              "\n",
              "    .dataframe thead th {\n",
              "        text-align: right;\n",
              "    }\n",
              "</style>\n",
              "<table border=\"1\" class=\"dataframe\">\n",
              "  <thead>\n",
              "    <tr style=\"text-align: right;\">\n",
              "      <th></th>\n",
              "      <th></th>\n",
              "      <th>H</th>\n",
              "      <th>W</th>\n",
              "      <th>d</th>\n",
              "      <th>e</th>\n",
              "      <th>l</th>\n",
              "      <th>o</th>\n",
              "      <th>r</th>\n",
              "    </tr>\n",
              "  </thead>\n",
              "  <tbody>\n",
              "    <tr>\n",
              "      <th>0</th>\n",
              "      <td>0</td>\n",
              "      <td>1</td>\n",
              "      <td>0</td>\n",
              "      <td>0</td>\n",
              "      <td>0</td>\n",
              "      <td>0</td>\n",
              "      <td>0</td>\n",
              "      <td>0</td>\n",
              "    </tr>\n",
              "    <tr>\n",
              "      <th>1</th>\n",
              "      <td>0</td>\n",
              "      <td>0</td>\n",
              "      <td>0</td>\n",
              "      <td>0</td>\n",
              "      <td>1</td>\n",
              "      <td>0</td>\n",
              "      <td>0</td>\n",
              "      <td>0</td>\n",
              "    </tr>\n",
              "    <tr>\n",
              "      <th>2</th>\n",
              "      <td>0</td>\n",
              "      <td>0</td>\n",
              "      <td>0</td>\n",
              "      <td>0</td>\n",
              "      <td>0</td>\n",
              "      <td>1</td>\n",
              "      <td>0</td>\n",
              "      <td>0</td>\n",
              "    </tr>\n",
              "    <tr>\n",
              "      <th>3</th>\n",
              "      <td>0</td>\n",
              "      <td>0</td>\n",
              "      <td>0</td>\n",
              "      <td>0</td>\n",
              "      <td>0</td>\n",
              "      <td>1</td>\n",
              "      <td>0</td>\n",
              "      <td>0</td>\n",
              "    </tr>\n",
              "    <tr>\n",
              "      <th>4</th>\n",
              "      <td>0</td>\n",
              "      <td>0</td>\n",
              "      <td>0</td>\n",
              "      <td>0</td>\n",
              "      <td>0</td>\n",
              "      <td>0</td>\n",
              "      <td>1</td>\n",
              "      <td>0</td>\n",
              "    </tr>\n",
              "    <tr>\n",
              "      <th>5</th>\n",
              "      <td>1</td>\n",
              "      <td>0</td>\n",
              "      <td>0</td>\n",
              "      <td>0</td>\n",
              "      <td>0</td>\n",
              "      <td>0</td>\n",
              "      <td>0</td>\n",
              "      <td>0</td>\n",
              "    </tr>\n",
              "    <tr>\n",
              "      <th>6</th>\n",
              "      <td>0</td>\n",
              "      <td>0</td>\n",
              "      <td>1</td>\n",
              "      <td>0</td>\n",
              "      <td>0</td>\n",
              "      <td>0</td>\n",
              "      <td>0</td>\n",
              "      <td>0</td>\n",
              "    </tr>\n",
              "    <tr>\n",
              "      <th>7</th>\n",
              "      <td>0</td>\n",
              "      <td>0</td>\n",
              "      <td>0</td>\n",
              "      <td>0</td>\n",
              "      <td>0</td>\n",
              "      <td>0</td>\n",
              "      <td>1</td>\n",
              "      <td>0</td>\n",
              "    </tr>\n",
              "    <tr>\n",
              "      <th>8</th>\n",
              "      <td>0</td>\n",
              "      <td>0</td>\n",
              "      <td>0</td>\n",
              "      <td>0</td>\n",
              "      <td>0</td>\n",
              "      <td>0</td>\n",
              "      <td>0</td>\n",
              "      <td>1</td>\n",
              "    </tr>\n",
              "    <tr>\n",
              "      <th>9</th>\n",
              "      <td>0</td>\n",
              "      <td>0</td>\n",
              "      <td>0</td>\n",
              "      <td>0</td>\n",
              "      <td>0</td>\n",
              "      <td>1</td>\n",
              "      <td>0</td>\n",
              "      <td>0</td>\n",
              "    </tr>\n",
              "    <tr>\n",
              "      <th>10</th>\n",
              "      <td>0</td>\n",
              "      <td>0</td>\n",
              "      <td>0</td>\n",
              "      <td>1</td>\n",
              "      <td>0</td>\n",
              "      <td>0</td>\n",
              "      <td>0</td>\n",
              "      <td>0</td>\n",
              "    </tr>\n",
              "  </tbody>\n",
              "</table>\n",
              "</div>"
            ],
            "text/plain": [
              "       H  W  d  e  l  o  r\n",
              "0   0  1  0  0  0  0  0  0\n",
              "1   0  0  0  0  1  0  0  0\n",
              "2   0  0  0  0  0  1  0  0\n",
              "3   0  0  0  0  0  1  0  0\n",
              "4   0  0  0  0  0  0  1  0\n",
              "5   1  0  0  0  0  0  0  0\n",
              "6   0  0  1  0  0  0  0  0\n",
              "7   0  0  0  0  0  0  1  0\n",
              "8   0  0  0  0  0  0  0  1\n",
              "9   0  0  0  0  0  1  0  0\n",
              "10  0  0  0  1  0  0  0  0"
            ]
          },
          "metadata": {
            "tags": []
          },
          "execution_count": 24
        }
      ]
    },
    {
      "cell_type": "markdown",
      "metadata": {
        "id": "F5keiqmWreTJ",
        "colab_type": "text"
      },
      "source": [
        "**pd.DataFrame()** converts Numy arrays to DataFrames (DFs)"
      ]
    },
    {
      "cell_type": "code",
      "metadata": {
        "id": "ri6jhKoJr3pz",
        "colab_type": "code",
        "colab": {
          "base_uri": "https://localhost:8080/",
          "height": 112
        },
        "outputId": "7e69a92f-ecde-4683-8a69-24df9a9c57a0"
      },
      "source": [
        "Array = np.array([[1,2,3],[4,5,6]])\n",
        "df = pd.DataFrame(Array) #aliter: pd.from_numpy(Array)\n",
        "df"
      ],
      "execution_count": 25,
      "outputs": [
        {
          "output_type": "execute_result",
          "data": {
            "text/html": [
              "<div>\n",
              "<style scoped>\n",
              "    .dataframe tbody tr th:only-of-type {\n",
              "        vertical-align: middle;\n",
              "    }\n",
              "\n",
              "    .dataframe tbody tr th {\n",
              "        vertical-align: top;\n",
              "    }\n",
              "\n",
              "    .dataframe thead th {\n",
              "        text-align: right;\n",
              "    }\n",
              "</style>\n",
              "<table border=\"1\" class=\"dataframe\">\n",
              "  <thead>\n",
              "    <tr style=\"text-align: right;\">\n",
              "      <th></th>\n",
              "      <th>0</th>\n",
              "      <th>1</th>\n",
              "      <th>2</th>\n",
              "    </tr>\n",
              "  </thead>\n",
              "  <tbody>\n",
              "    <tr>\n",
              "      <th>0</th>\n",
              "      <td>1</td>\n",
              "      <td>2</td>\n",
              "      <td>3</td>\n",
              "    </tr>\n",
              "    <tr>\n",
              "      <th>1</th>\n",
              "      <td>4</td>\n",
              "      <td>5</td>\n",
              "      <td>6</td>\n",
              "    </tr>\n",
              "  </tbody>\n",
              "</table>\n",
              "</div>"
            ],
            "text/plain": [
              "   0  1  2\n",
              "0  1  2  3\n",
              "1  4  5  6"
            ]
          },
          "metadata": {
            "tags": []
          },
          "execution_count": 25
        }
      ]
    },
    {
      "cell_type": "code",
      "metadata": {
        "id": "1J1LGEGwshmf",
        "colab_type": "code",
        "colab": {
          "base_uri": "https://localhost:8080/",
          "height": 90
        },
        "outputId": "6c725463-40e6-4b8d-d756-3135a9b9b05c"
      },
      "source": [
        "#can use it to get a numpy array as well:\n",
        "pd.DataFrame({'A':[1,2,3,4], 'B':[5,6,7,8]}).to_numpy()"
      ],
      "execution_count": 27,
      "outputs": [
        {
          "output_type": "execute_result",
          "data": {
            "text/plain": [
              "array([[1, 5],\n",
              "       [2, 6],\n",
              "       [3, 7],\n",
              "       [4, 8]])"
            ]
          },
          "metadata": {
            "tags": []
          },
          "execution_count": 27
        }
      ]
    },
    {
      "cell_type": "markdown",
      "metadata": {
        "id": "94EpDTL_tNDF",
        "colab_type": "text"
      },
      "source": [
        ">> **MATPLOTLIB**"
      ]
    },
    {
      "cell_type": "code",
      "metadata": {
        "id": "ZEAUZj2TtP-p",
        "colab_type": "code",
        "colab": {}
      },
      "source": [
        "import matplotlib.pyplot as plt"
      ],
      "execution_count": 0,
      "outputs": []
    },
    {
      "cell_type": "code",
      "metadata": {
        "id": "ASFRsKeEtr98",
        "colab_type": "code",
        "colab": {
          "base_uri": "https://localhost:8080/",
          "height": 298
        },
        "outputId": "0399a3e6-0956-46a7-9e29-99a2926a0bd6"
      },
      "source": [
        "import numpy as np\n",
        "x = np.linspace(-3*np.pi,3*np.pi,300)\n",
        "y = np.divide(np.sin(x),x)\n",
        "plt.plot(x,y)\n",
        "plt.show\n",
        "plt.title(r'$\\alpha_0$')"
      ],
      "execution_count": 31,
      "outputs": [
        {
          "output_type": "execute_result",
          "data": {
            "text/plain": [
              "Text(0.5, 1.0, '$\\\\alpha_0$')"
            ]
          },
          "metadata": {
            "tags": []
          },
          "execution_count": 31
        },
        {
          "output_type": "display_data",
          "data": {
            "image/png": "[encoded data removed]",
            "text/plain": [
              "<Figure size 432x288 with 1 Axes>"
            ]
          },
          "metadata": {
            "tags": [],
            "needs_background": "light"
          }
        }
      ]
    },
    {
      "cell_type": "code",
      "metadata": {
        "id": "lDv8iKdiu41s",
        "colab_type": "code",
        "colab": {
          "base_uri": "https://localhost:8080/",
          "height": 283
        },
        "outputId": "c2e82191-c0ea-44ef-9fda-eb28903bd7be"
      },
      "source": [
        "plt.figure()\n",
        "plt.subplot(1,2,1) #(no. rows, no. cols, place of plot)\n",
        "plt.plot(x,y)\n",
        "plt.subplot(1,2,2)\n",
        "plt.plot(x,y)\n",
        "plt.legend(('first','second'))\n",
        "plt.show"
      ],
      "execution_count": 33,
      "outputs": [
        {
          "output_type": "execute_result",
          "data": {
            "text/plain": [
              "<function matplotlib.pyplot.show>"
            ]
          },
          "metadata": {
            "tags": []
          },
          "execution_count": 33
        },
        {
          "output_type": "display_data",
          "data": {
            "image/png": "[encoded data removed]",
            "text/plain": [
              "<Figure size 432x288 with 2 Axes>"
            ]
          },
          "metadata": {
            "tags": [],
            "needs_background": "light"
          }
        }
      ]
    },
    {
      "cell_type": "markdown",
      "metadata": {
        "id": "EACkOAitv7p4",
        "colab_type": "text"
      },
      "source": [
        ">> Other stuff:"
      ]
    },
    {
      "cell_type": "code",
      "metadata": {
        "id": "6S8VIWLEv-gQ",
        "colab_type": "code",
        "colab": {
          "base_uri": "https://localhost:8080/",
          "height": 90
        },
        "outputId": "2cddb01e-bb0f-4062-8ab5-c839328ccd32"
      },
      "source": [
        "#installing packages:\n",
        "!pip install django"
      ],
      "execution_count": 35,
      "outputs": [
        {
          "output_type": "stream",
          "text": [
            "Requirement already satisfied: django in /usr/local/lib/python3.6/dist-packages (3.0.5)\n",
            "Requirement already satisfied: asgiref~=3.2 in /usr/local/lib/python3.6/dist-packages (from django) (3.2.7)\n",
            "Requirement already satisfied: sqlparse>=0.2.2 in /usr/local/lib/python3.6/dist-packages (from django) (0.3.1)\n",
            "Requirement already satisfied: pytz in /usr/local/lib/python3.6/dist-packages (from django) (2018.9)\n"
          ],
          "name": "stdout"
        }
      ]
    },
    {
      "cell_type": "code",
      "metadata": {
        "id": "SRiLEZljwosY",
        "colab_type": "code",
        "colab": {}
      },
      "source": [
        "!git clone URL"
      ],
      "execution_count": 0,
      "outputs": []
    },
    {
      "cell_type": "markdown",
      "metadata": {
        "id": "Y11M4_EAZ-eh",
        "colab_type": "text"
      },
      "source": [
        ">**LESS BASIC:**"
      ]
    }
  ]
}